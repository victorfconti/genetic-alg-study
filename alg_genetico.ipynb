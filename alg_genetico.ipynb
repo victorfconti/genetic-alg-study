{
 "cells": [
  {
   "cell_type": "code",
   "execution_count": 114,
   "outputs": [
    {
     "name": "stdout",
     "output_type": "stream",
     "text": [
      "The Cython extension is already loaded. To reload it, use:\n",
      "  %reload_ext Cython\n"
     ]
    }
   ],
   "source": [
    "import time\n",
    "%load_ext Cython"
   ],
   "metadata": {
    "collapsed": false,
    "pycharm": {
     "name": "#%%\n"
    }
   }
  },
  {
   "cell_type": "markdown",
   "source": [
    "# Representação do problema"
   ],
   "metadata": {
    "collapsed": false,
    "pycharm": {
     "name": "#%% md\n"
    }
   }
  },
  {
   "cell_type": "code",
   "execution_count": 115,
   "outputs": [],
   "source": [
    "pessoas = [('Lisbon', 'LIS'), ('Madrid', 'MAD'), ('Paris', 'CDG'), ('Dublin', 'DUB'), ('Brussels', 'BRU'), ('Lodon', 'LHR')]\n",
    "destino = 'FCO'\n",
    "dominio_voos = [(0, 9)] * (len(pessoas) * 2)\n",
    "voos = {}\n",
    "for linha in open('flights.txt'):\n",
    "    origin, destino, partida, chegada, preco = linha.split(',')\n",
    "    voos.setdefault((origin, destino), []).append([partida, chegada, int(preco.strip())])\n"
   ],
   "metadata": {
    "collapsed": false,
    "pycharm": {
     "name": "#%%\n"
    }
   }
  },
  {
   "cell_type": "code",
   "execution_count": 116,
   "outputs": [],
   "source": [
    "def imprime_calendario(calendario):\n",
    "    voo_id = -1\n",
    "    preco_total = 0\n",
    "    for it_calendario in range(len(calendario) // 2):\n",
    "        nome = pessoas[it_calendario][0]\n",
    "        origem = pessoas[it_calendario][1]\n",
    "        voo_id += 1\n",
    "        voo_ida = voos[(origem, destino)][calendario[voo_id]]\n",
    "        preco_total += voo_ida[2]\n",
    "        voo_id += 1\n",
    "        voo_volta = voos[(destino, origem)][calendario[voo_id]]\n",
    "        preco_total += voo_volta[2]\n",
    "        print('%10s%10s %5s-%5s U$%3s %5s-%5s U$%3s' % (nome, origem, voo_ida[0], voo_ida[1], voo_ida[2],\n",
    "                                                        voo_volta[0], voo_volta[1], voo_volta[2]))\n",
    "    print('Preço total: ', preco_total)"
   ],
   "metadata": {
    "collapsed": false,
    "pycharm": {
     "name": "#%%\n"
    }
   }
  },
  {
   "cell_type": "code",
   "execution_count": 117,
   "outputs": [],
   "source": [
    "def get_minutos(hora):\n",
    "    t = time.strptime(hora, '%H:%M')\n",
    "    minutos = t[3] * 60 + t[4]\n",
    "    return minutos"
   ],
   "metadata": {
    "collapsed": false,
    "pycharm": {
     "name": "#%%\n"
    }
   }
  },
  {
   "cell_type": "markdown",
   "source": [
    "# Função de avaliação (Fitness function)"
   ],
   "metadata": {
    "collapsed": false,
    "pycharm": {
     "name": "#%% md\n"
    }
   }
  },
  {
   "cell_type": "code",
   "execution_count": 124,
   "outputs": [
    {
     "name": "stderr",
     "output_type": "stream",
     "text": [
      "\n",
      "Error compiling Cython file:\n",
      "------------------------------------------------------------\n",
      "...\n",
      "    ultima_chegada = 0\n",
      "    primeira_partida = 1439\n",
      "\n",
      "    voo_id = -1\n",
      "    for ite_calendario in range(len(calendario) // 2):\n",
      "        origem = pessoas[ite_calendario][1]\n",
      "                ^\n",
      "------------------------------------------------------------\n",
      "\n",
      "/home/victor/.cache/ipython/cython/_cython_magic_bc49c76ccf2a727860ed29f07b5c0485.pyx:8:17: undeclared name not builtin: pessoas\n",
      "\n",
      "Error compiling Cython file:\n",
      "------------------------------------------------------------\n",
      "...\n",
      "\n",
      "    voo_id = -1\n",
      "    for ite_calendario in range(len(calendario) // 2):\n",
      "        origem = pessoas[ite_calendario][1]\n",
      "        voo_id += 1\n",
      "        voo_ida = voos[(origem, destino)][calendario[voo_id]]\n",
      "                 ^\n",
      "------------------------------------------------------------\n",
      "\n",
      "/home/victor/.cache/ipython/cython/_cython_magic_bc49c76ccf2a727860ed29f07b5c0485.pyx:10:18: undeclared name not builtin: voos\n",
      "\n",
      "Error compiling Cython file:\n",
      "------------------------------------------------------------\n",
      "...\n",
      "\n",
      "    voo_id = -1\n",
      "    for ite_calendario in range(len(calendario) // 2):\n",
      "        origem = pessoas[ite_calendario][1]\n",
      "        voo_id += 1\n",
      "        voo_ida = voos[(origem, destino)][calendario[voo_id]]\n",
      "                               ^\n",
      "------------------------------------------------------------\n",
      "\n",
      "/home/victor/.cache/ipython/cython/_cython_magic_bc49c76ccf2a727860ed29f07b5c0485.pyx:10:32: undeclared name not builtin: destino\n",
      "\n",
      "Error compiling Cython file:\n",
      "------------------------------------------------------------\n",
      "...\n",
      "        voo_volta = voos[(destino, origem)][calendario[voo_id]]\n",
      "\n",
      "        preco_total += voo_ida[2]\n",
      "        preco_total += voo_volta[2]\n",
      "\n",
      "        if ultima_chegada < get_minutos(voo_ida[1]):\n",
      "                           ^\n",
      "------------------------------------------------------------\n",
      "\n",
      "/home/victor/.cache/ipython/cython/_cython_magic_bc49c76ccf2a727860ed29f07b5c0485.pyx:17:28: undeclared name not builtin: get_minutos\n"
     ]
    }
   ],
   "source": [
    "%%time\n",
    "def funcao_avaliacao_voos(calendario):\n",
    "    preco_total = 0\n",
    "    ultima_chegada = 0\n",
    "    primeira_partida = 1439\n",
    "\n",
    "    voo_id = -1\n",
    "    for ite_calendario in range(len(calendario) // 2):\n",
    "        origem = pessoas[ite_calendario][1]\n",
    "        voo_id += 1\n",
    "        voo_ida = voos[(origem, destino)][calendario[voo_id]]\n",
    "        voo_id += 1\n",
    "        voo_volta = voos[(destino, origem)][calendario[voo_id]]\n",
    "\n",
    "        preco_total += voo_ida[2]\n",
    "        preco_total += voo_volta[2]\n",
    "\n",
    "        if ultima_chegada < get_minutos(voo_ida[1]):\n",
    "            ultima_chegada = get_minutos(voo_ida[1])\n",
    "        if primeira_partida > get_minutos(voo_volta[0]):\n",
    "            primeira_partida = get_minutos(voo_volta[0])\n",
    "\n",
    "    espera_total = 0\n",
    "    voo_id = -1\n",
    "\n",
    "    for ite_calendario in range(len(calendario) // 2):\n",
    "        origem = pessoas[ite_calendario][1]\n",
    "        voo_id += 1\n",
    "        voo_ida = voos[(origem, destino)][calendario[voo_id]]\n",
    "        voo_id += 1\n",
    "        voo_volta = voos[(destino, origem)][calendario[voo_id]]\n",
    "\n",
    "        espera_total += ultima_chegada - get_minutos(voo_ida[1])\n",
    "        espera_total += get_minutos(voo_volta[0]) - primeira_partida\n",
    "\n",
    "    return espera_total + preco_total\n"
   ],
   "metadata": {
    "collapsed": false,
    "pycharm": {
     "name": "#%%\n"
    }
   }
  },
  {
   "cell_type": "code",
   "execution_count": 119,
   "outputs": [
    {
     "name": "stdout",
     "output_type": "stream",
     "text": [
      "CPU times: user 5 µs, sys: 0 ns, total: 5 µs\n",
      "Wall time: 5.72 µs\n"
     ]
    }
   ],
   "source": [
    "import random\n",
    "\n",
    "def mutacao(dominio, passo, calendario, probabilidade):\n",
    "    gene = random.randint(0, len(dominio) - 1)\n",
    "    mutante = calendario\n",
    "    if random.random() < probabilidade:\n",
    "        if calendario[gene] != dominio[gene][0]:\n",
    "            mutante = calendario[0:gene] + [calendario[gene] - passo] + calendario[gene + 1:]\n",
    "        elif calendario[gene] != dominio[gene][1]:\n",
    "            mutante = calendario[0:gene] + [calendario[gene] + passo] + calendario[gene + 1:]\n",
    "    return mutante"
   ],
   "metadata": {
    "collapsed": false,
    "pycharm": {
     "name": "#%%\n"
    }
   }
  },
  {
   "cell_type": "markdown",
   "source": [
    "# Crossover"
   ],
   "metadata": {
    "collapsed": false,
    "pycharm": {
     "name": "#%% md\n"
    }
   }
  },
  {
   "cell_type": "code",
   "execution_count": 120,
   "outputs": [],
   "source": [
    "def crossover(dominio, individuo1, individuo2):\n",
    "    gene = random.randint(1, len(dominio) - 2)\n",
    "    return individuo1[0:gene] + individuo2[gene:]"
   ],
   "metadata": {
    "collapsed": false,
    "pycharm": {
     "name": "#%%\n"
    }
   }
  },
  {
   "cell_type": "code",
   "execution_count": 121,
   "outputs": [
    {
     "name": "stdout",
     "output_type": "stream",
     "text": [
      "CPU times: user 2 µs, sys: 0 ns, total: 2 µs\n",
      "Wall time: 3.81 µs\n"
     ]
    }
   ],
   "source": [
    "def algoritmo_genetico(dominio, funcao_avaliacao, tamanho_populacao = 100, passo = 1, elitismo = 0.2, numero_geracoes = 500, probabilidade_mutacao = 0.05):\n",
    "    populacao = []\n",
    "    for _ in range(tamanho_populacao):\n",
    "        individuo = [random.randint(dominio[i][0], dominio[i][1]) for i in range(len(dominio))]\n",
    "        populacao.append(individuo)\n",
    "    numero_elitismo = int(elitismo * tamanho_populacao)\n",
    "    custos = []\n",
    "    for _ in range(numero_geracoes):\n",
    "        custos = [(funcao_avaliacao(individuo), individuo) for individuo in populacao]\n",
    "        custos.sort()\n",
    "        individuos_ordenados = [individuo for (custo, individuo) in custos]\n",
    "        populacao = individuos_ordenados[0:numero_elitismo]\n",
    "\n",
    "        while len(populacao) < tamanho_populacao:\n",
    "            i1 = random.randint(0, numero_elitismo)\n",
    "            i2 = random.randint(0, numero_elitismo)\n",
    "\n",
    "            novo_individuo = crossover(dominio, individuos_ordenados[i1], individuos_ordenados[i2])\n",
    "\n",
    "            mutacao_novos_individuos = mutacao(dominio, passo, novo_individuo, probabilidade_mutacao)\n",
    "            populacao.append(mutacao_novos_individuos)\n",
    "    return custos[0][1]"
   ],
   "metadata": {
    "collapsed": false,
    "pycharm": {
     "name": "#%%\n"
    }
   }
  },
  {
   "cell_type": "code",
   "execution_count": 122,
   "outputs": [
    {
     "name": "stdout",
     "output_type": "stream",
     "text": [
      "2354\n",
      "    Lisbon       LIS 12:18-14:56 U$172  8:04-10:59 U$136\n",
      "    Madrid       MAD 12:44-14:17 U$134  7:50-10:08 U$164\n",
      "     Paris       CDG 11:28-14:40 U$248  8:23-11:07 U$143\n",
      "    Dublin       DUB 12:34-15:02 U$109  8:23-10:28 U$149\n",
      "  Brussels       BRU 10:30-14:57 U$290  9:49-13:51 U$229\n",
      "     Lodon       LHR 12:08-14:59 U$149  8:19-11:16 U$122\n",
      "Preço total:  2045\n",
      "CPU times: user 1min 51s, sys: 0 ns, total: 1min 51s\n",
      "Wall time: 1min 51s\n"
     ]
    }
   ],
   "source": [
    "%%time\n",
    "\n",
    "menor_solucao = [5000,[]]\n",
    "for _ in range(0,100):\n",
    "    solucao = algoritmo_genetico(dominio_voos, funcao_avaliacao_voos, numero_geracoes = 100, tamanho_populacao=100,\n",
    "                                 elitismo = 0.2, probabilidade_mutacao = 0.05)\n",
    "    if funcao_avaliacao_voos(solucao) < menor_solucao[0]:\n",
    "        menor_solucao[0] = funcao_avaliacao_voos(solucao)\n",
    "        menor_solucao[1] = solucao\n",
    "\n",
    "print(menor_solucao[0])\n",
    "imprime_calendario(menor_solucao[1])"
   ],
   "metadata": {
    "collapsed": false,
    "pycharm": {
     "name": "#%%\n"
    }
   }
  }
 ],
 "metadata": {
  "kernelspec": {
   "display_name": "Python 3",
   "language": "python",
   "name": "python3"
  },
  "language_info": {
   "codemirror_mode": {
    "name": "ipython",
    "version": 2
   },
   "file_extension": ".py",
   "mimetype": "text/x-python",
   "name": "python",
   "nbconvert_exporter": "python",
   "pygments_lexer": "ipython2",
   "version": "2.7.6"
  }
 },
 "nbformat": 4,
 "nbformat_minor": 0
}